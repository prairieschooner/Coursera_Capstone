{
 "cells": [
  {
   "cell_type": "markdown",
   "metadata": {
    "collapsed": true
   },
   "source": [
    "## Predicting the amount of mexican restaurants based on Hispanic population"
   ]
  },
  {
   "cell_type": "markdown",
   "metadata": {},
   "source": [
    " "
   ]
  },
  {
   "cell_type": "markdown",
   "metadata": {},
   "source": [
    "### Table of contents\n",
    " - Introduction / Business Problem\n",
    " - Data\n",
    " - Methodology\n",
    " - Analysis\n",
    " - Results and Discussion\n",
    " - Conclusion"
   ]
  },
  {
   "cell_type": "markdown",
   "metadata": {},
   "source": [
    "### Introduction/Business Problem"
   ]
  },
  {
   "cell_type": "markdown",
   "metadata": {},
   "source": [
    "Restaurants have a hard time choosing where to build new locations. It depends on a plethora of conditions, such as traffic patterns, proximity to other similar restaurants, and distance from neighborhoods. However, in this project, I look how the amount of Hispanic population in a city affects the diversity of restaurants. I am specifically researching whether or to what extent the Hispanic ethnicity of the population of a city dictates the amount of ‘mexican’ restaurants. This data and research would be of great interest to restaurants of any type as a factor in determining new locations. This project could also be extended to include different ethnicities and more types of restaurants."
   ]
  },
  {
   "cell_type": "markdown",
   "metadata": {},
   "source": [
    "### Data"
   ]
  },
  {
   "cell_type": "markdown",
   "metadata": {},
   "source": [
    "I choose the Phoenix metropolitan area to analyze. It has a variety of ethnicities among its cities, and therefore is bound to have some variation to be scrutinized. I use population data and the ratio or percentage of Hispanics for each city in the Phoenix metropolitan area, gathered from the 2010 census. I am discarding all population in unincorporated areas; only people in the cities of Phoenix are included. There were several cities (about three to five out of thirty) that I did not have ethnicity data for, so I excluded those cities as well."
   ]
  },
  {
   "cell_type": "markdown",
   "metadata": {},
   "source": [
    "In my project, I compile the population and demographic data into one dataframe. Then I add the latitude and longitude for each location in my dataframe. Next, I query Foursquare to find the amount of Mexican restaurants in each vicinity, both as a number amount and as a percentage of the total number of restaurants in the area. Lastly, I train and test several models to find the most accurate in predicting the proportion of Mexican restaurants in a given city based on the proportion of Hispanic population. This gives me the ability to give a decision, with reasonable certainty, as to whether another Mexican restaurant might be successful in a certain area. Of course, other data would be needed to determine the exact location and whether there are already too many restaurants for the population. However, this project would be a useful metric in aiding a restaurant chain in deciding on new locations. <br> <br>    "
   ]
  },
  {
   "cell_type": "markdown",
   "metadata": {},
   "source": [
    "I import the necessary libraries for the project"
   ]
  },
  {
   "cell_type": "code",
   "execution_count": 1,
   "metadata": {},
   "outputs": [
    {
     "name": "stdout",
     "output_type": "stream",
     "text": [
      "Solving environment: done\n",
      "\n",
      "## Package Plan ##\n",
      "\n",
      "  environment location: /opt/conda/envs/Python36\n",
      "\n",
      "  added / updated specs: \n",
      "    - geopy\n",
      "\n",
      "\n",
      "The following packages will be downloaded:\n",
      "\n",
      "    package                    |            build\n",
      "    ---------------------------|-----------------\n",
      "    geopy-1.21.0               |             py_0          58 KB  conda-forge\n",
      "    openssl-1.1.1d             |       h516909a_0         2.1 MB  conda-forge\n",
      "    certifi-2019.11.28         |           py36_0         149 KB  conda-forge\n",
      "    geographiclib-1.50         |             py_0          34 KB  conda-forge\n",
      "    ca-certificates-2019.11.28 |       hecc5488_0         145 KB  conda-forge\n",
      "    ------------------------------------------------------------\n",
      "                                           Total:         2.5 MB\n",
      "\n",
      "The following NEW packages will be INSTALLED:\n",
      "\n",
      "    geographiclib:   1.50-py_0         conda-forge\n",
      "    geopy:           1.21.0-py_0       conda-forge\n",
      "\n",
      "The following packages will be UPDATED:\n",
      "\n",
      "    ca-certificates: 2019.11.27-0                  --> 2019.11.28-hecc5488_0 conda-forge\n",
      "    certifi:         2019.11.28-py36_0             --> 2019.11.28-py36_0     conda-forge\n",
      "\n",
      "The following packages will be DOWNGRADED:\n",
      "\n",
      "    openssl:         1.1.1d-h7b6447c_3             --> 1.1.1d-h516909a_0     conda-forge\n",
      "\n",
      "\n",
      "Downloading and Extracting Packages\n",
      "geopy-1.21.0         | 58 KB     | ##################################### | 100% \n",
      "openssl-1.1.1d       | 2.1 MB    | ##################################### | 100% \n",
      "certifi-2019.11.28   | 149 KB    | ##################################### | 100% \n",
      "geographiclib-1.50   | 34 KB     | ##################################### | 100% \n",
      "ca-certificates-2019 | 145 KB    | ##################################### | 100% \n",
      "Preparing transaction: done\n",
      "Verifying transaction: done\n",
      "Executing transaction: done\n",
      "Solving environment: done\n",
      "\n",
      "## Package Plan ##\n",
      "\n",
      "  environment location: /opt/conda/envs/Python36\n",
      "\n",
      "  added / updated specs: \n",
      "    - folium=0.5.0\n",
      "\n",
      "\n",
      "The following packages will be downloaded:\n",
      "\n",
      "    package                    |            build\n",
      "    ---------------------------|-----------------\n",
      "    branca-0.4.0               |             py_0          26 KB  conda-forge\n",
      "    vincent-0.4.4              |             py_1          28 KB  conda-forge\n",
      "    folium-0.5.0               |             py_0          45 KB  conda-forge\n",
      "    altair-4.0.1               |             py_0         575 KB  conda-forge\n",
      "    ------------------------------------------------------------\n",
      "                                           Total:         673 KB\n",
      "\n",
      "The following NEW packages will be INSTALLED:\n",
      "\n",
      "    altair:  4.0.1-py_0 conda-forge\n",
      "    branca:  0.4.0-py_0 conda-forge\n",
      "    folium:  0.5.0-py_0 conda-forge\n",
      "    vincent: 0.4.4-py_1 conda-forge\n",
      "\n",
      "\n",
      "Downloading and Extracting Packages\n",
      "branca-0.4.0         | 26 KB     | ##################################### | 100% \n",
      "vincent-0.4.4        | 28 KB     | ##################################### | 100% \n",
      "folium-0.5.0         | 45 KB     | ##################################### | 100% \n",
      "altair-4.0.1         | 575 KB    | ##################################### | 100% \n",
      "Preparing transaction: done\n",
      "Verifying transaction: done\n",
      "Executing transaction: done\n",
      "Folium installed\n",
      "Libraries imported.\n"
     ]
    }
   ],
   "source": [
    "import requests\n",
    "import pandas as pd\n",
    "import numpy as np\n",
    "import random\n",
    "\n",
    "!conda install -c conda-forge geopy --yes \n",
    "from geopy.geocoders import Nominatim\n",
    "\n",
    "# libraries for displaying images\n",
    "from IPython.display import Image \n",
    "from IPython.core.display import HTML \n",
    "    \n",
    "# tranforming json file into a pandas dataframe library\n",
    "from pandas.io.json import json_normalize\n",
    "\n",
    "!conda install -c conda-forge folium=0.5.0 --yes\n",
    "import folium # plotting library\n",
    "\n",
    "print('Folium installed')\n",
    "print('Libraries imported.')"
   ]
  },
  {
   "cell_type": "markdown",
   "metadata": {},
   "source": [
    "<br> \n",
    "#### Upload Population data from Github <br> "
   ]
  },
  {
   "cell_type": "code",
   "execution_count": 2,
   "metadata": {},
   "outputs": [
    {
     "name": "stdout",
     "output_type": "stream",
     "text": [
      "  % Total    % Received % Xferd  Average Speed   Time    Time     Time  Current\n",
      "                                 Dload  Upload   Total   Spent    Left  Speed\n",
      "100  1521  100  1521    0     0   8497      0 --:--:-- --:--:-- --:--:--  8497\n"
     ]
    }
   ],
   "source": [
    " !curl https://raw.githubusercontent.com/prairieschooner/Coursera_Capstone/master/pop_2010_all.csv -o pop_2010_all.csv"
   ]
  },
  {
   "cell_type": "code",
   "execution_count": 3,
   "metadata": {
    "scrolled": true
   },
   "outputs": [
    {
     "data": {
      "text/html": [
       "<div>\n",
       "<style scoped>\n",
       "    .dataframe tbody tr th:only-of-type {\n",
       "        vertical-align: middle;\n",
       "    }\n",
       "\n",
       "    .dataframe tbody tr th {\n",
       "        vertical-align: top;\n",
       "    }\n",
       "\n",
       "    .dataframe thead th {\n",
       "        text-align: right;\n",
       "    }\n",
       "</style>\n",
       "<table border=\"1\" class=\"dataframe\">\n",
       "  <thead>\n",
       "    <tr style=\"text-align: right;\">\n",
       "      <th></th>\n",
       "      <th>Place</th>\n",
       "      <th>Population</th>\n",
       "    </tr>\n",
       "  </thead>\n",
       "  <tbody>\n",
       "    <tr>\n",
       "      <th>0</th>\n",
       "      <td>Eagar</td>\n",
       "      <td>4885</td>\n",
       "    </tr>\n",
       "    <tr>\n",
       "      <th>1</th>\n",
       "      <td>St. Johns</td>\n",
       "      <td>3480</td>\n",
       "    </tr>\n",
       "    <tr>\n",
       "      <th>2</th>\n",
       "      <td>Springerville</td>\n",
       "      <td>1961</td>\n",
       "    </tr>\n",
       "    <tr>\n",
       "      <th>3</th>\n",
       "      <td>Benson</td>\n",
       "      <td>5105</td>\n",
       "    </tr>\n",
       "    <tr>\n",
       "      <th>4</th>\n",
       "      <td>Bisbee</td>\n",
       "      <td>5575</td>\n",
       "    </tr>\n",
       "  </tbody>\n",
       "</table>\n",
       "</div>"
      ],
      "text/plain": [
       "           Place  Population\n",
       "0          Eagar        4885\n",
       "1      St. Johns        3480\n",
       "2  Springerville        1961\n",
       "3         Benson        5105\n",
       "4         Bisbee        5575"
      ]
     },
     "execution_count": 3,
     "metadata": {},
     "output_type": "execute_result"
    }
   ],
   "source": [
    "pop_all = pd.read_csv('pop_2010_all.csv')\n",
    "pop_all.head()"
   ]
  },
  {
   "cell_type": "markdown",
   "metadata": {},
   "source": [
    "<br> \n",
    "#### Upload Ethnicity data from Github <br>"
   ]
  },
  {
   "cell_type": "code",
   "execution_count": 4,
   "metadata": {},
   "outputs": [
    {
     "name": "stdout",
     "output_type": "stream",
     "text": [
      "  % Total    % Received % Xferd  Average Speed   Time    Time     Time  Current\n",
      "                                 Dload  Upload   Total   Spent    Left  Speed\n",
      "100  2381  100  2381    0     0  14430      0 --:--:-- --:--:-- --:--:-- 14430\n"
     ]
    }
   ],
   "source": [
    " !curl https://raw.githubusercontent.com/prairieschooner/Coursera_Capstone/master/pop_2010_hispanic.csv -o pop_his.csv"
   ]
  },
  {
   "cell_type": "code",
   "execution_count": 5,
   "metadata": {
    "scrolled": false
   },
   "outputs": [
    {
     "data": {
      "text/html": [
       "<div>\n",
       "<style scoped>\n",
       "    .dataframe tbody tr th:only-of-type {\n",
       "        vertical-align: middle;\n",
       "    }\n",
       "\n",
       "    .dataframe tbody tr th {\n",
       "        vertical-align: top;\n",
       "    }\n",
       "\n",
       "    .dataframe thead th {\n",
       "        text-align: right;\n",
       "    }\n",
       "</style>\n",
       "<table border=\"1\" class=\"dataframe\">\n",
       "  <thead>\n",
       "    <tr style=\"text-align: right;\">\n",
       "      <th></th>\n",
       "      <th>Incorporated Place</th>\n",
       "      <th>Hispanic or Latino</th>\n",
       "      <th>Not Hispanic or Latino</th>\n",
       "      <th>Unnamed: 3</th>\n",
       "    </tr>\n",
       "  </thead>\n",
       "  <tbody>\n",
       "    <tr>\n",
       "      <th>0</th>\n",
       "      <td>Chandler city</td>\n",
       "      <td>21.9</td>\n",
       "      <td>78.1</td>\n",
       "      <td>NaN</td>\n",
       "    </tr>\n",
       "    <tr>\n",
       "      <th>1</th>\n",
       "      <td>Tusayan town</td>\n",
       "      <td>40.7</td>\n",
       "      <td>59.3</td>\n",
       "      <td>NaN</td>\n",
       "    </tr>\n",
       "    <tr>\n",
       "      <th>2</th>\n",
       "      <td>Gilbert town</td>\n",
       "      <td>14.9</td>\n",
       "      <td>85.1</td>\n",
       "      <td>NaN</td>\n",
       "    </tr>\n",
       "    <tr>\n",
       "      <th>3</th>\n",
       "      <td>Tempe city</td>\n",
       "      <td>21.1</td>\n",
       "      <td>78.9</td>\n",
       "      <td>NaN</td>\n",
       "    </tr>\n",
       "    <tr>\n",
       "      <th>4</th>\n",
       "      <td>Eloy city</td>\n",
       "      <td>58.0</td>\n",
       "      <td>42.0</td>\n",
       "      <td>NaN</td>\n",
       "    </tr>\n",
       "  </tbody>\n",
       "</table>\n",
       "</div>"
      ],
      "text/plain": [
       "  Incorporated Place      Hispanic or Latino      Not Hispanic or Latino  \\\n",
       "0      Chandler city                    21.9                        78.1   \n",
       "1       Tusayan town                    40.7                        59.3   \n",
       "2       Gilbert town                    14.9                        85.1   \n",
       "3         Tempe city                    21.1                        78.9   \n",
       "4          Eloy city                    58.0                        42.0   \n",
       "\n",
       "   Unnamed: 3  \n",
       "0         NaN  \n",
       "1         NaN  \n",
       "2         NaN  \n",
       "3         NaN  \n",
       "4         NaN  "
      ]
     },
     "execution_count": 5,
     "metadata": {},
     "output_type": "execute_result"
    }
   ],
   "source": [
    "per_his = pd.read_csv('pop_his.csv')\n",
    "per_his.head()"
   ]
  },
  {
   "cell_type": "markdown",
   "metadata": {},
   "source": [
    "<br> \n",
    "#### Upload city data from Github <br> "
   ]
  },
  {
   "cell_type": "code",
   "execution_count": 6,
   "metadata": {},
   "outputs": [
    {
     "name": "stdout",
     "output_type": "stream",
     "text": [
      "  % Total    % Received % Xferd  Average Speed   Time    Time     Time  Current\n",
      "                                 Dload  Upload   Total   Spent    Left  Speed\n",
      "100   523  100   523    0     0   2971      0 --:--:-- --:--:-- --:--:--  2971\n"
     ]
    }
   ],
   "source": [
    " !curl https://raw.githubusercontent.com/prairieschooner/Coursera_Capstone/master/phoenix_cities_towns.csv -o cities.csv"
   ]
  },
  {
   "cell_type": "code",
   "execution_count": 7,
   "metadata": {},
   "outputs": [
    {
     "data": {
      "text/html": [
       "<div>\n",
       "<style scoped>\n",
       "    .dataframe tbody tr th:only-of-type {\n",
       "        vertical-align: middle;\n",
       "    }\n",
       "\n",
       "    .dataframe tbody tr th {\n",
       "        vertical-align: top;\n",
       "    }\n",
       "\n",
       "    .dataframe thead th {\n",
       "        text-align: right;\n",
       "    }\n",
       "</style>\n",
       "<table border=\"1\" class=\"dataframe\">\n",
       "  <thead>\n",
       "    <tr style=\"text-align: right;\">\n",
       "      <th></th>\n",
       "      <th>Place</th>\n",
       "      <th>indices</th>\n",
       "    </tr>\n",
       "  </thead>\n",
       "  <tbody>\n",
       "    <tr>\n",
       "      <th>0</th>\n",
       "      <td>Phoenix</td>\n",
       "      <td>0</td>\n",
       "    </tr>\n",
       "    <tr>\n",
       "      <th>1</th>\n",
       "      <td>Mesa</td>\n",
       "      <td>1</td>\n",
       "    </tr>\n",
       "    <tr>\n",
       "      <th>2</th>\n",
       "      <td>Chandler</td>\n",
       "      <td>2</td>\n",
       "    </tr>\n",
       "    <tr>\n",
       "      <th>3</th>\n",
       "      <td>Scottsdale</td>\n",
       "      <td>3</td>\n",
       "    </tr>\n",
       "    <tr>\n",
       "      <th>4</th>\n",
       "      <td>Glendale</td>\n",
       "      <td>4</td>\n",
       "    </tr>\n",
       "  </tbody>\n",
       "</table>\n",
       "</div>"
      ],
      "text/plain": [
       "        Place  indices\n",
       "0     Phoenix        0\n",
       "1        Mesa        1\n",
       "2    Chandler        2\n",
       "3  Scottsdale        3\n",
       "4    Glendale        4"
      ]
     },
     "execution_count": 7,
     "metadata": {},
     "output_type": "execute_result"
    }
   ],
   "source": [
    "cities = pd.read_csv('cities.csv')\n",
    "del cities['Population']\n",
    "cities['indices'] = cities.index\n",
    "cities.head()"
   ]
  },
  {
   "cell_type": "markdown",
   "metadata": {},
   "source": [
    "Here I clean the data and combine the three dataframes into one"
   ]
  },
  {
   "cell_type": "code",
   "execution_count": 8,
   "metadata": {},
   "outputs": [],
   "source": [
    "#Normalizing the dataframe by standardizing the city names\n",
    "per_his['Place'] = per_his['Incorporated Place'].str.replace(' city', '')\n",
    "per_his['Place'] = per_his['Place'].str.replace(' town', '')"
   ]
  },
  {
   "cell_type": "code",
   "execution_count": 9,
   "metadata": {},
   "outputs": [
    {
     "data": {
      "text/html": [
       "<div>\n",
       "<style scoped>\n",
       "    .dataframe tbody tr th:only-of-type {\n",
       "        vertical-align: middle;\n",
       "    }\n",
       "\n",
       "    .dataframe tbody tr th {\n",
       "        vertical-align: top;\n",
       "    }\n",
       "\n",
       "    .dataframe thead th {\n",
       "        text-align: right;\n",
       "    }\n",
       "</style>\n",
       "<table border=\"1\" class=\"dataframe\">\n",
       "  <thead>\n",
       "    <tr style=\"text-align: right;\">\n",
       "      <th></th>\n",
       "      <th>Hispanic or Latino</th>\n",
       "      <th>Not Hispanic or Latino</th>\n",
       "      <th>Place</th>\n",
       "    </tr>\n",
       "  </thead>\n",
       "  <tbody>\n",
       "    <tr>\n",
       "      <th>0</th>\n",
       "      <td>21.9</td>\n",
       "      <td>78.1</td>\n",
       "      <td>Chandler</td>\n",
       "    </tr>\n",
       "    <tr>\n",
       "      <th>1</th>\n",
       "      <td>40.7</td>\n",
       "      <td>59.3</td>\n",
       "      <td>Tusayan</td>\n",
       "    </tr>\n",
       "    <tr>\n",
       "      <th>2</th>\n",
       "      <td>14.9</td>\n",
       "      <td>85.1</td>\n",
       "      <td>Gilbert</td>\n",
       "    </tr>\n",
       "    <tr>\n",
       "      <th>3</th>\n",
       "      <td>21.1</td>\n",
       "      <td>78.9</td>\n",
       "      <td>Tempe</td>\n",
       "    </tr>\n",
       "    <tr>\n",
       "      <th>4</th>\n",
       "      <td>58.0</td>\n",
       "      <td>42.0</td>\n",
       "      <td>Eloy</td>\n",
       "    </tr>\n",
       "  </tbody>\n",
       "</table>\n",
       "</div>"
      ],
      "text/plain": [
       "       Hispanic or Latino      Not Hispanic or Latino     Place\n",
       "0                    21.9                        78.1  Chandler\n",
       "1                    40.7                        59.3   Tusayan\n",
       "2                    14.9                        85.1   Gilbert\n",
       "3                    21.1                        78.9     Tempe\n",
       "4                    58.0                        42.0      Eloy"
      ]
     },
     "execution_count": 9,
     "metadata": {},
     "output_type": "execute_result"
    }
   ],
   "source": [
    "#Removing unnecessary columns\n",
    "del per_his['Incorporated Place']\n",
    "del per_his['Unnamed: 3']\n",
    "per_his.head()"
   ]
  },
  {
   "cell_type": "code",
   "execution_count": 10,
   "metadata": {},
   "outputs": [
    {
     "data": {
      "text/html": [
       "<div>\n",
       "<style scoped>\n",
       "    .dataframe tbody tr th:only-of-type {\n",
       "        vertical-align: middle;\n",
       "    }\n",
       "\n",
       "    .dataframe tbody tr th {\n",
       "        vertical-align: top;\n",
       "    }\n",
       "\n",
       "    .dataframe thead th {\n",
       "        text-align: right;\n",
       "    }\n",
       "</style>\n",
       "<table border=\"1\" class=\"dataframe\">\n",
       "  <thead>\n",
       "    <tr style=\"text-align: right;\">\n",
       "      <th></th>\n",
       "      <th>Hispanic or Latino</th>\n",
       "      <th>Not Hispanic or Latino</th>\n",
       "      <th>Place</th>\n",
       "      <th>Population</th>\n",
       "    </tr>\n",
       "  </thead>\n",
       "  <tbody>\n",
       "    <tr>\n",
       "      <th>10</th>\n",
       "      <td>50.3</td>\n",
       "      <td>49.7</td>\n",
       "      <td>Avondale</td>\n",
       "      <td>76238</td>\n",
       "    </tr>\n",
       "    <tr>\n",
       "      <th>48</th>\n",
       "      <td>22.1</td>\n",
       "      <td>77.9</td>\n",
       "      <td>Benson</td>\n",
       "      <td>5105</td>\n",
       "    </tr>\n",
       "    <tr>\n",
       "      <th>59</th>\n",
       "      <td>36.2</td>\n",
       "      <td>63.8</td>\n",
       "      <td>Bisbee</td>\n",
       "      <td>5575</td>\n",
       "    </tr>\n",
       "    <tr>\n",
       "      <th>24</th>\n",
       "      <td>38.3</td>\n",
       "      <td>61.7</td>\n",
       "      <td>Buckeye</td>\n",
       "      <td>50876</td>\n",
       "    </tr>\n",
       "    <tr>\n",
       "      <th>28</th>\n",
       "      <td>23.7</td>\n",
       "      <td>76.3</td>\n",
       "      <td>Bullhead City</td>\n",
       "      <td>39540</td>\n",
       "    </tr>\n",
       "  </tbody>\n",
       "</table>\n",
       "</div>"
      ],
      "text/plain": [
       "        Hispanic or Latino      Not Hispanic or Latino          Place  \\\n",
       "10                    50.3                        49.7       Avondale   \n",
       "48                    22.1                        77.9         Benson   \n",
       "59                    36.2                        63.8         Bisbee   \n",
       "24                    38.3                        61.7        Buckeye   \n",
       "28                    23.7                        76.3  Bullhead City   \n",
       "\n",
       "    Population  \n",
       "10       76238  \n",
       "48        5105  \n",
       "59        5575  \n",
       "24       50876  \n",
       "28       39540  "
      ]
     },
     "execution_count": 10,
     "metadata": {},
     "output_type": "execute_result"
    }
   ],
   "source": [
    "pop_his = pd.merge(per_his, pop_all, on='Place')\n",
    "pop_his = pop_his.sort_values('Place')\n",
    "pop_his.head()"
   ]
  },
  {
   "cell_type": "code",
   "execution_count": 11,
   "metadata": {},
   "outputs": [
    {
     "data": {
      "text/html": [
       "<div>\n",
       "<style scoped>\n",
       "    .dataframe tbody tr th:only-of-type {\n",
       "        vertical-align: middle;\n",
       "    }\n",
       "\n",
       "    .dataframe tbody tr th {\n",
       "        vertical-align: top;\n",
       "    }\n",
       "\n",
       "    .dataframe thead th {\n",
       "        text-align: right;\n",
       "    }\n",
       "</style>\n",
       "<table border=\"1\" class=\"dataframe\">\n",
       "  <thead>\n",
       "    <tr style=\"text-align: right;\">\n",
       "      <th></th>\n",
       "      <th>Hispanic or Latino</th>\n",
       "      <th>Not Hispanic or Latino</th>\n",
       "      <th>Place</th>\n",
       "      <th>Population</th>\n",
       "    </tr>\n",
       "  </thead>\n",
       "  <tbody>\n",
       "    <tr>\n",
       "      <th>0</th>\n",
       "      <td>50.3</td>\n",
       "      <td>49.7</td>\n",
       "      <td>Avondale</td>\n",
       "      <td>76238</td>\n",
       "    </tr>\n",
       "    <tr>\n",
       "      <th>1</th>\n",
       "      <td>38.3</td>\n",
       "      <td>61.7</td>\n",
       "      <td>Buckeye</td>\n",
       "      <td>50876</td>\n",
       "    </tr>\n",
       "    <tr>\n",
       "      <th>2</th>\n",
       "      <td>2.9</td>\n",
       "      <td>97.1</td>\n",
       "      <td>Carefree</td>\n",
       "      <td>3363</td>\n",
       "    </tr>\n",
       "    <tr>\n",
       "      <th>3</th>\n",
       "      <td>39.0</td>\n",
       "      <td>61.0</td>\n",
       "      <td>Casa Grande</td>\n",
       "      <td>48571</td>\n",
       "    </tr>\n",
       "    <tr>\n",
       "      <th>4</th>\n",
       "      <td>8.1</td>\n",
       "      <td>91.9</td>\n",
       "      <td>Cave Creek</td>\n",
       "      <td>5015</td>\n",
       "    </tr>\n",
       "  </tbody>\n",
       "</table>\n",
       "</div>"
      ],
      "text/plain": [
       "       Hispanic or Latino      Not Hispanic or Latino        Place  Population\n",
       "0                    50.3                        49.7     Avondale       76238\n",
       "1                    38.3                        61.7      Buckeye       50876\n",
       "2                     2.9                        97.1     Carefree        3363\n",
       "3                    39.0                        61.0  Casa Grande       48571\n",
       "4                     8.1                        91.9   Cave Creek        5015"
      ]
     },
     "execution_count": 11,
     "metadata": {},
     "output_type": "execute_result"
    }
   ],
   "source": [
    "df_places = pd.merge(pop_his, cities, on='Place')\n",
    "df_places = df_places.sort_values('Place')\n",
    "del df_places['indices']\n",
    "df_places.shape\n",
    "df_places.head()"
   ]
  },
  {
   "cell_type": "markdown",
   "metadata": {},
   "source": [
    "<br> \n",
    "#### Getting the number of mexican restaurants in each city  <br> "
   ]
  },
  {
   "cell_type": "markdown",
   "metadata": {},
   "source": [
    "In this section I need to retrieve a count of all the mexican resaurants in each city from Foursquare.  To do this, I need to define the category of venue to query.  In this case, I am interested in the overall count of restaurants and the count of mexican restaurants for each city.  Therefore, I will use a dictionary with the keys being the cities and the values the count of all restaurants and the count of mexican restaurants."
   ]
  },
  {
   "cell_type": "code",
   "execution_count": 12,
   "metadata": {},
   "outputs": [
    {
     "name": "stdout",
     "output_type": "stream",
     "text": [
      "Your credentails:\n",
      "CLIENT_ID: PYW1SVZBKUNQZ1HUUCBORX3L53ALS3Q0H50ESBCFKYG5CGLT\n",
      "CLIENT_SECRET:3SELEI2OV4KFPQ4PXZPBWZ3FME15Q3RUI4KZL4FXCAPBOS12\n"
     ]
    }
   ],
   "source": [
    "CLIENT_ID = 'PYW1SVZBKUNQZ1HUUCBORX3L53ALS3Q0H50ESBCFKYG5CGLT' # your Foursquare ID\n",
    "CLIENT_SECRET = '3SELEI2OV4KFPQ4PXZPBWZ3FME15Q3RUI4KZL4FXCAPBOS12' # your Foursquare Secret\n",
    "VERSION = '20180604'\n",
    "LIMIT = 30\n",
    "print('Your credentails:')\n",
    "print('CLIENT_ID: ' + CLIENT_ID)\n",
    "print('CLIENT_SECRET:' + CLIENT_SECRET)"
   ]
  },
  {
   "cell_type": "markdown",
   "metadata": {},
   "source": [
    "Adding more columns"
   ]
  },
  {
   "cell_type": "code",
   "execution_count": 13,
   "metadata": {},
   "outputs": [
    {
     "data": {
      "text/html": [
       "<div>\n",
       "<style scoped>\n",
       "    .dataframe tbody tr th:only-of-type {\n",
       "        vertical-align: middle;\n",
       "    }\n",
       "\n",
       "    .dataframe tbody tr th {\n",
       "        vertical-align: top;\n",
       "    }\n",
       "\n",
       "    .dataframe thead th {\n",
       "        text-align: right;\n",
       "    }\n",
       "</style>\n",
       "<table border=\"1\" class=\"dataframe\">\n",
       "  <thead>\n",
       "    <tr style=\"text-align: right;\">\n",
       "      <th></th>\n",
       "      <th>Hispanic or Latino</th>\n",
       "      <th>Not Hispanic or Latino</th>\n",
       "      <th>Place</th>\n",
       "      <th>Population</th>\n",
       "      <th>Count of Mexican Restaurants</th>\n",
       "      <th>Total Restaurants</th>\n",
       "      <th>% Mexican of Total</th>\n",
       "    </tr>\n",
       "  </thead>\n",
       "  <tbody>\n",
       "    <tr>\n",
       "      <th>0</th>\n",
       "      <td>50.3</td>\n",
       "      <td>49.7</td>\n",
       "      <td>Avondale</td>\n",
       "      <td>76238</td>\n",
       "      <td></td>\n",
       "      <td></td>\n",
       "      <td></td>\n",
       "    </tr>\n",
       "    <tr>\n",
       "      <th>1</th>\n",
       "      <td>38.3</td>\n",
       "      <td>61.7</td>\n",
       "      <td>Buckeye</td>\n",
       "      <td>50876</td>\n",
       "      <td></td>\n",
       "      <td></td>\n",
       "      <td></td>\n",
       "    </tr>\n",
       "    <tr>\n",
       "      <th>2</th>\n",
       "      <td>2.9</td>\n",
       "      <td>97.1</td>\n",
       "      <td>Carefree</td>\n",
       "      <td>3363</td>\n",
       "      <td></td>\n",
       "      <td></td>\n",
       "      <td></td>\n",
       "    </tr>\n",
       "    <tr>\n",
       "      <th>3</th>\n",
       "      <td>39.0</td>\n",
       "      <td>61.0</td>\n",
       "      <td>Casa Grande</td>\n",
       "      <td>48571</td>\n",
       "      <td></td>\n",
       "      <td></td>\n",
       "      <td></td>\n",
       "    </tr>\n",
       "    <tr>\n",
       "      <th>4</th>\n",
       "      <td>8.1</td>\n",
       "      <td>91.9</td>\n",
       "      <td>Cave Creek</td>\n",
       "      <td>5015</td>\n",
       "      <td></td>\n",
       "      <td></td>\n",
       "      <td></td>\n",
       "    </tr>\n",
       "  </tbody>\n",
       "</table>\n",
       "</div>"
      ],
      "text/plain": [
       "       Hispanic or Latino      Not Hispanic or Latino        Place  \\\n",
       "0                    50.3                        49.7     Avondale   \n",
       "1                    38.3                        61.7      Buckeye   \n",
       "2                     2.9                        97.1     Carefree   \n",
       "3                    39.0                        61.0  Casa Grande   \n",
       "4                     8.1                        91.9   Cave Creek   \n",
       "\n",
       "   Population Count of Mexican Restaurants Total Restaurants  \\\n",
       "0       76238                                                  \n",
       "1       50876                                                  \n",
       "2        3363                                                  \n",
       "3       48571                                                  \n",
       "4        5015                                                  \n",
       "\n",
       "  % Mexican of Total  \n",
       "0                     \n",
       "1                     \n",
       "2                     \n",
       "3                     \n",
       "4                     "
      ]
     },
     "execution_count": 13,
     "metadata": {},
     "output_type": "execute_result"
    }
   ],
   "source": [
    "df_places['Count of Mexican Restaurants'] = ''\n",
    "df_places['Total Restaurants'] = ''\n",
    "df_places['% Mexican of Total'] = ''\n",
    "df_places.head()"
   ]
  },
  {
   "cell_type": "code",
   "execution_count": 14,
   "metadata": {},
   "outputs": [],
   "source": [
    "mex_id = '4bf58dd8d48988d1c1941735'\n",
    "food_id = '4d4b7105d754a06374d81259'"
   ]
  },
  {
   "cell_type": "markdown",
   "metadata": {},
   "source": [
    "Getting the count of restaurants from Foursquare"
   ]
  },
  {
   "cell_type": "code",
   "execution_count": 15,
   "metadata": {},
   "outputs": [],
   "source": [
    "def get_restaurants(df_places):\n",
    "    total_mr = []\n",
    "    total_ar = []\n",
    "    per_mr = []\n",
    "    \n",
    "    for x in df_places.index:\n",
    "        \n",
    "        location = df_places.at[df_places.index[x], 'Place']\n",
    "        \n",
    "        url1 = 'https://api.foursquare.com/v2/venues/explore?&client_id={}&client_secret={}&v={}&near={}&intent={}&categoryId={}'.format(CLIENT_ID, CLIENT_SECRET, VERSION, location,'match', mex_id)\n",
    "        results1 = requests.get(url1).json()\n",
    "        df1 = pd.DataFrame.from_dict(results1)\n",
    "        result_m = df1.at['totalResults', 'response']\n",
    "        total_mr.append(result_m)\n",
    "        \n",
    "        url2 = 'https://api.foursquare.com/v2/venues/explore?&client_id={}&client_secret={}&v={}&near={}&intent={}&categoryId={}'.format(CLIENT_ID, CLIENT_SECRET, VERSION, location,'match', food_id)\n",
    "        results2 = requests.get(url2).json()\n",
    "        df2 = pd.DataFrame.from_dict(results2)\n",
    "        result_a = df2.at['totalResults', 'response']\n",
    "        total_ar.append(result_a)\n",
    "        \n",
    "        per_mr.append(result_m/result_a * 100)\n",
    "        \n",
    "    return total_ar, total_mr, per_mr"
   ]
  },
  {
   "cell_type": "code",
   "execution_count": 16,
   "metadata": {},
   "outputs": [],
   "source": [
    "ar, mr, per_mr = get_restaurants(df_places)"
   ]
  },
  {
   "cell_type": "markdown",
   "metadata": {},
   "source": [
    "Update the places dataframe"
   ]
  },
  {
   "cell_type": "code",
   "execution_count": 31,
   "metadata": {
    "scrolled": true
   },
   "outputs": [
    {
     "data": {
      "text/html": [
       "<div>\n",
       "<style scoped>\n",
       "    .dataframe tbody tr th:only-of-type {\n",
       "        vertical-align: middle;\n",
       "    }\n",
       "\n",
       "    .dataframe tbody tr th {\n",
       "        vertical-align: top;\n",
       "    }\n",
       "\n",
       "    .dataframe thead th {\n",
       "        text-align: right;\n",
       "    }\n",
       "</style>\n",
       "<table border=\"1\" class=\"dataframe\">\n",
       "  <thead>\n",
       "    <tr style=\"text-align: right;\">\n",
       "      <th></th>\n",
       "      <th>Hispanic or Latino</th>\n",
       "      <th>Not Hispanic or Latino</th>\n",
       "      <th>Place</th>\n",
       "      <th>Population</th>\n",
       "      <th>Count of Mexican Restaurants</th>\n",
       "      <th>Total Restaurants</th>\n",
       "      <th>% Mexican of Total</th>\n",
       "    </tr>\n",
       "  </thead>\n",
       "  <tbody>\n",
       "    <tr>\n",
       "      <th>0</th>\n",
       "      <td>50.3</td>\n",
       "      <td>49.7</td>\n",
       "      <td>Avondale</td>\n",
       "      <td>76238</td>\n",
       "      <td>34</td>\n",
       "      <td>97</td>\n",
       "      <td>35.051546</td>\n",
       "    </tr>\n",
       "    <tr>\n",
       "      <th>1</th>\n",
       "      <td>38.3</td>\n",
       "      <td>61.7</td>\n",
       "      <td>Buckeye</td>\n",
       "      <td>50876</td>\n",
       "      <td>17</td>\n",
       "      <td>57</td>\n",
       "      <td>29.824561</td>\n",
       "    </tr>\n",
       "    <tr>\n",
       "      <th>2</th>\n",
       "      <td>2.9</td>\n",
       "      <td>97.1</td>\n",
       "      <td>Carefree</td>\n",
       "      <td>3363</td>\n",
       "      <td>12</td>\n",
       "      <td>16</td>\n",
       "      <td>75.000000</td>\n",
       "    </tr>\n",
       "    <tr>\n",
       "      <th>3</th>\n",
       "      <td>39.0</td>\n",
       "      <td>61.0</td>\n",
       "      <td>Casa Grande</td>\n",
       "      <td>48571</td>\n",
       "      <td>62</td>\n",
       "      <td>70</td>\n",
       "      <td>88.571429</td>\n",
       "    </tr>\n",
       "    <tr>\n",
       "      <th>4</th>\n",
       "      <td>8.1</td>\n",
       "      <td>91.9</td>\n",
       "      <td>Cave Creek</td>\n",
       "      <td>5015</td>\n",
       "      <td>8</td>\n",
       "      <td>44</td>\n",
       "      <td>18.181818</td>\n",
       "    </tr>\n",
       "  </tbody>\n",
       "</table>\n",
       "</div>"
      ],
      "text/plain": [
       "       Hispanic or Latino      Not Hispanic or Latino        Place  \\\n",
       "0                    50.3                        49.7     Avondale   \n",
       "1                    38.3                        61.7      Buckeye   \n",
       "2                     2.9                        97.1     Carefree   \n",
       "3                    39.0                        61.0  Casa Grande   \n",
       "4                     8.1                        91.9   Cave Creek   \n",
       "\n",
       "   Population  Count of Mexican Restaurants  Total Restaurants  \\\n",
       "0       76238                            34                 97   \n",
       "1       50876                            17                 57   \n",
       "2        3363                            12                 16   \n",
       "3       48571                            62                 70   \n",
       "4        5015                             8                 44   \n",
       "\n",
       "   % Mexican of Total  \n",
       "0           35.051546  \n",
       "1           29.824561  \n",
       "2           75.000000  \n",
       "3           88.571429  \n",
       "4           18.181818  "
      ]
     },
     "execution_count": 31,
     "metadata": {},
     "output_type": "execute_result"
    }
   ],
   "source": [
    "df_places['Count of Mexican Restaurants'] = mr\n",
    "df_places['Total Restaurants'] = ar\n",
    "df_places['% Mexican of Total'] = per_mr\n",
    "df_places.head()"
   ]
  },
  {
   "cell_type": "markdown",
   "metadata": {},
   "source": [
    "Removing extraordinary values (such as when count of mexican restaurants is higher that count from food category)"
   ]
  },
  {
   "cell_type": "code",
   "execution_count": 32,
   "metadata": {},
   "outputs": [
    {
     "data": {
      "text/html": [
       "<div>\n",
       "<style scoped>\n",
       "    .dataframe tbody tr th:only-of-type {\n",
       "        vertical-align: middle;\n",
       "    }\n",
       "\n",
       "    .dataframe tbody tr th {\n",
       "        vertical-align: top;\n",
       "    }\n",
       "\n",
       "    .dataframe thead th {\n",
       "        text-align: right;\n",
       "    }\n",
       "</style>\n",
       "<table border=\"1\" class=\"dataframe\">\n",
       "  <thead>\n",
       "    <tr style=\"text-align: right;\">\n",
       "      <th></th>\n",
       "      <th>Hispanic or Latino</th>\n",
       "      <th>Not Hispanic or Latino</th>\n",
       "      <th>Place</th>\n",
       "      <th>Population</th>\n",
       "      <th>Count of Mexican Restaurants</th>\n",
       "      <th>Total Restaurants</th>\n",
       "      <th>% Mexican of Total</th>\n",
       "    </tr>\n",
       "  </thead>\n",
       "  <tbody>\n",
       "    <tr>\n",
       "      <th>0</th>\n",
       "      <td>50.3</td>\n",
       "      <td>49.7</td>\n",
       "      <td>Avondale</td>\n",
       "      <td>76238</td>\n",
       "      <td>34</td>\n",
       "      <td>97</td>\n",
       "      <td>35.051546</td>\n",
       "    </tr>\n",
       "    <tr>\n",
       "      <th>1</th>\n",
       "      <td>38.3</td>\n",
       "      <td>61.7</td>\n",
       "      <td>Buckeye</td>\n",
       "      <td>50876</td>\n",
       "      <td>17</td>\n",
       "      <td>57</td>\n",
       "      <td>29.824561</td>\n",
       "    </tr>\n",
       "    <tr>\n",
       "      <th>2</th>\n",
       "      <td>2.9</td>\n",
       "      <td>97.1</td>\n",
       "      <td>Carefree</td>\n",
       "      <td>3363</td>\n",
       "      <td>12</td>\n",
       "      <td>16</td>\n",
       "      <td>75.000000</td>\n",
       "    </tr>\n",
       "    <tr>\n",
       "      <th>3</th>\n",
       "      <td>39.0</td>\n",
       "      <td>61.0</td>\n",
       "      <td>Casa Grande</td>\n",
       "      <td>48571</td>\n",
       "      <td>62</td>\n",
       "      <td>70</td>\n",
       "      <td>88.571429</td>\n",
       "    </tr>\n",
       "    <tr>\n",
       "      <th>4</th>\n",
       "      <td>8.1</td>\n",
       "      <td>91.9</td>\n",
       "      <td>Cave Creek</td>\n",
       "      <td>5015</td>\n",
       "      <td>8</td>\n",
       "      <td>44</td>\n",
       "      <td>18.181818</td>\n",
       "    </tr>\n",
       "  </tbody>\n",
       "</table>\n",
       "</div>"
      ],
      "text/plain": [
       "       Hispanic or Latino      Not Hispanic or Latino        Place  \\\n",
       "0                    50.3                        49.7     Avondale   \n",
       "1                    38.3                        61.7      Buckeye   \n",
       "2                     2.9                        97.1     Carefree   \n",
       "3                    39.0                        61.0  Casa Grande   \n",
       "4                     8.1                        91.9   Cave Creek   \n",
       "\n",
       "   Population  Count of Mexican Restaurants  Total Restaurants  \\\n",
       "0       76238                            34                 97   \n",
       "1       50876                            17                 57   \n",
       "2        3363                            12                 16   \n",
       "3       48571                            62                 70   \n",
       "4        5015                             8                 44   \n",
       "\n",
       "   % Mexican of Total  \n",
       "0           35.051546  \n",
       "1           29.824561  \n",
       "2           75.000000  \n",
       "3           88.571429  \n",
       "4           18.181818  "
      ]
     },
     "execution_count": 32,
     "metadata": {},
     "output_type": "execute_result"
    }
   ],
   "source": [
    "df_final = df_places\n",
    "df_final = df_final[df_final['% Mexican of Total'] < 100.0]\n",
    "df_final.head()"
   ]
  },
  {
   "cell_type": "markdown",
   "metadata": {},
   "source": [
    "My dataframe is now finished and ready for analysis"
   ]
  },
  {
   "cell_type": "markdown",
   "metadata": {},
   "source": [
    "### Methodology"
   ]
  },
  {
   "cell_type": "markdown",
   "metadata": {},
   "source": [
    "I have cleaned, sorted, and normalized my data from multiple sources. I have a list of cities in the Phoenix metropolitan area.  For each city, I have the percentage of Mexican restaurants and the Hispanic population. "
   ]
  },
  {
   "cell_type": "markdown",
   "metadata": {},
   "source": [
    "Next I will use graphs and maps to visualize the data and determine if there is any direct correlation.  I will also search for a correlation to the size of the city (as determined by total popluation).  More correlations to search for could be those regarding the total amount of restaurants or the number of people per restaurant."
   ]
  },
  {
   "cell_type": "markdown",
   "metadata": {},
   "source": [
    "Now I need to analyze the data using the methods described above and determine the relationship between the Hispanic population of a city and the amount of Mexican restaurants."
   ]
  },
  {
   "cell_type": "markdown",
   "metadata": {},
   "source": [
    "### Analysis"
   ]
  },
  {
   "cell_type": "code",
   "execution_count": 34,
   "metadata": {},
   "outputs": [],
   "source": [
    "import matplotlib as mpl\n",
    "import matplotlib.pyplot as plt"
   ]
  },
  {
   "cell_type": "code",
   "execution_count": 40,
   "metadata": {},
   "outputs": [
    {
     "data": {
      "text/html": [
       "<div>\n",
       "<style scoped>\n",
       "    .dataframe tbody tr th:only-of-type {\n",
       "        vertical-align: middle;\n",
       "    }\n",
       "\n",
       "    .dataframe tbody tr th {\n",
       "        vertical-align: top;\n",
       "    }\n",
       "\n",
       "    .dataframe thead th {\n",
       "        text-align: right;\n",
       "    }\n",
       "</style>\n",
       "<table border=\"1\" class=\"dataframe\">\n",
       "  <thead>\n",
       "    <tr style=\"text-align: right;\">\n",
       "      <th></th>\n",
       "      <th>Hispanic or Latino</th>\n",
       "      <th>Not Hispanic or Latino</th>\n",
       "      <th>Place</th>\n",
       "      <th>Population</th>\n",
       "      <th>Count of Mexican Restaurants</th>\n",
       "      <th>Total Restaurants</th>\n",
       "      <th>% Mexican of Total</th>\n",
       "    </tr>\n",
       "  </thead>\n",
       "  <tbody>\n",
       "    <tr>\n",
       "      <th>0</th>\n",
       "      <td>50.3</td>\n",
       "      <td>49.7</td>\n",
       "      <td>Avondale</td>\n",
       "      <td>76238</td>\n",
       "      <td>34</td>\n",
       "      <td>97</td>\n",
       "      <td>35.051546</td>\n",
       "    </tr>\n",
       "    <tr>\n",
       "      <th>1</th>\n",
       "      <td>38.3</td>\n",
       "      <td>61.7</td>\n",
       "      <td>Buckeye</td>\n",
       "      <td>50876</td>\n",
       "      <td>17</td>\n",
       "      <td>57</td>\n",
       "      <td>29.824561</td>\n",
       "    </tr>\n",
       "    <tr>\n",
       "      <th>2</th>\n",
       "      <td>2.9</td>\n",
       "      <td>97.1</td>\n",
       "      <td>Carefree</td>\n",
       "      <td>3363</td>\n",
       "      <td>12</td>\n",
       "      <td>16</td>\n",
       "      <td>75.000000</td>\n",
       "    </tr>\n",
       "    <tr>\n",
       "      <th>3</th>\n",
       "      <td>39.0</td>\n",
       "      <td>61.0</td>\n",
       "      <td>Casa Grande</td>\n",
       "      <td>48571</td>\n",
       "      <td>62</td>\n",
       "      <td>70</td>\n",
       "      <td>88.571429</td>\n",
       "    </tr>\n",
       "    <tr>\n",
       "      <th>4</th>\n",
       "      <td>8.1</td>\n",
       "      <td>91.9</td>\n",
       "      <td>Cave Creek</td>\n",
       "      <td>5015</td>\n",
       "      <td>8</td>\n",
       "      <td>44</td>\n",
       "      <td>18.181818</td>\n",
       "    </tr>\n",
       "  </tbody>\n",
       "</table>\n",
       "</div>"
      ],
      "text/plain": [
       "       Hispanic or Latino      Not Hispanic or Latino        Place  \\\n",
       "0                    50.3                        49.7     Avondale   \n",
       "1                    38.3                        61.7      Buckeye   \n",
       "2                     2.9                        97.1     Carefree   \n",
       "3                    39.0                        61.0  Casa Grande   \n",
       "4                     8.1                        91.9   Cave Creek   \n",
       "\n",
       "   Population  Count of Mexican Restaurants  Total Restaurants  \\\n",
       "0       76238                            34                 97   \n",
       "1       50876                            17                 57   \n",
       "2        3363                            12                 16   \n",
       "3       48571                            62                 70   \n",
       "4        5015                             8                 44   \n",
       "\n",
       "   % Mexican of Total  \n",
       "0           35.051546  \n",
       "1           29.824561  \n",
       "2           75.000000  \n",
       "3           88.571429  \n",
       "4           18.181818  "
      ]
     },
     "execution_count": 40,
     "metadata": {},
     "output_type": "execute_result"
    }
   ],
   "source": [
    "df_final.head()"
   ]
  },
  {
   "cell_type": "code",
   "execution_count": 43,
   "metadata": {},
   "outputs": [
    {
     "data": {
      "text/plain": [
       "Index(['    Hispanic or Latino', '    Not Hispanic or Latino', 'Place',\n",
       "       'Population', 'Count of Mexican Restaurants', 'Total Restaurants',\n",
       "       '% Mexican of Total'],\n",
       "      dtype='object')"
      ]
     },
     "execution_count": 43,
     "metadata": {},
     "output_type": "execute_result"
    }
   ],
   "source": [
    "df_final.columns"
   ]
  },
  {
   "cell_type": "code",
   "execution_count": 81,
   "metadata": {},
   "outputs": [
    {
     "data": {
      "text/plain": [
       "Index(['    Hispanic or Latino', '% Mexican of Total'], dtype='object')"
      ]
     },
     "execution_count": 81,
     "metadata": {},
     "output_type": "execute_result"
    }
   ],
   "source": [
    "df_chart = df_final[['    Hispanic or Latino', '% Mexican of Total']]\n",
    "df_chart.columns"
   ]
  },
  {
   "cell_type": "code",
   "execution_count": 82,
   "metadata": {},
   "outputs": [
    {
     "data": {
      "text/html": [
       "<div>\n",
       "<style scoped>\n",
       "    .dataframe tbody tr th:only-of-type {\n",
       "        vertical-align: middle;\n",
       "    }\n",
       "\n",
       "    .dataframe tbody tr th {\n",
       "        vertical-align: top;\n",
       "    }\n",
       "\n",
       "    .dataframe thead th {\n",
       "        text-align: right;\n",
       "    }\n",
       "</style>\n",
       "<table border=\"1\" class=\"dataframe\">\n",
       "  <thead>\n",
       "    <tr style=\"text-align: right;\">\n",
       "      <th></th>\n",
       "      <th>Hispanic or Latino</th>\n",
       "      <th>% Mexican of Total</th>\n",
       "    </tr>\n",
       "  </thead>\n",
       "  <tbody>\n",
       "    <tr>\n",
       "      <th>2</th>\n",
       "      <td>2.9</td>\n",
       "      <td>75.000000</td>\n",
       "    </tr>\n",
       "    <tr>\n",
       "      <th>10</th>\n",
       "      <td>4.1</td>\n",
       "      <td>73.913043</td>\n",
       "    </tr>\n",
       "    <tr>\n",
       "      <th>4</th>\n",
       "      <td>8.1</td>\n",
       "      <td>18.181818</td>\n",
       "    </tr>\n",
       "    <tr>\n",
       "      <th>22</th>\n",
       "      <td>8.8</td>\n",
       "      <td>51.376147</td>\n",
       "    </tr>\n",
       "    <tr>\n",
       "      <th>27</th>\n",
       "      <td>13.4</td>\n",
       "      <td>33.333333</td>\n",
       "    </tr>\n",
       "  </tbody>\n",
       "</table>\n",
       "</div>"
      ],
      "text/plain": [
       "        Hispanic or Latino  % Mexican of Total\n",
       "2                      2.9           75.000000\n",
       "10                     4.1           73.913043\n",
       "4                      8.1           18.181818\n",
       "22                     8.8           51.376147\n",
       "27                    13.4           33.333333"
      ]
     },
     "execution_count": 82,
     "metadata": {},
     "output_type": "execute_result"
    }
   ],
   "source": [
    "df_chart = df_chart.sort_values(by = ['    Hispanic or Latino'])\n",
    "df_chart.head()"
   ]
  },
  {
   "cell_type": "code",
   "execution_count": 83,
   "metadata": {},
   "outputs": [
    {
     "data": {
      "text/plain": [
       "<matplotlib.axes._subplots.AxesSubplot at 0x7f4cc88087f0>"
      ]
     },
     "execution_count": 83,
     "metadata": {},
     "output_type": "execute_result"
    },
    {
     "data": {
      "image/png": "[encoded data removed]",
      "text/plain": [
       "<Figure size 432x288 with 1 Axes>"
      ]
     },
     "metadata": {
      "needs_background": "light"
     },
     "output_type": "display_data"
    }
   ],
   "source": [
    "df_chart.plot(kind = 'bar', width=1)"
   ]
  },
  {
   "cell_type": "code",
   "execution_count": 84,
   "metadata": {},
   "outputs": [
    {
     "data": {
      "text/plain": [
       "<matplotlib.axes._subplots.AxesSubplot at 0x7f4cc86f32b0>"
      ]
     },
     "execution_count": 84,
     "metadata": {},
     "output_type": "execute_result"
    },
    {
     "data": {
      "image/png": "[encoded data removed]",
      "text/plain": [
       "<Figure size 432x288 with 1 Axes>"
      ]
     },
     "metadata": {
      "needs_background": "light"
     },
     "output_type": "display_data"
    }
   ],
   "source": [
    "df_chart.plot(kind = 'scatter', x='    Hispanic or Latino', y='% Mexican of Total')"
   ]
  },
  {
   "cell_type": "markdown",
   "metadata": {},
   "source": [
    "According to the charts above, it seems that the there is actually an inverse relationship between the hispanic population and the amount of Mexican restaurants."
   ]
  },
  {
   "cell_type": "code",
   "execution_count": 85,
   "metadata": {},
   "outputs": [],
   "source": [
    "from sklearn.model_selection import KFold\n",
    "from sklearn.linear_model import LinearRegression\n",
    "import matplotlib.pyplot as plt"
   ]
  },
  {
   "cell_type": "code",
   "execution_count": 87,
   "metadata": {},
   "outputs": [],
   "source": [
    "X = pd.DataFrame(df_chart['    Hispanic or Latino'])\n",
    "y = pd.DataFrame(df_chart['% Mexican of Total'])"
   ]
  },
  {
   "cell_type": "code",
   "execution_count": 89,
   "metadata": {},
   "outputs": [
    {
     "data": {
      "text/plain": [
       "0.0778223460247357"
      ]
     },
     "execution_count": 89,
     "metadata": {},
     "output_type": "execute_result"
    }
   ],
   "source": [
    "model = LinearRegression()\n",
    "model.fit(X, y)\n",
    "model.score(X,y)"
   ]
  },
  {
   "cell_type": "code",
   "execution_count": 91,
   "metadata": {},
   "outputs": [
    {
     "data": {
      "image/png": "[encoded data removed]",
      "text/plain": [
       "<Figure size 432x288 with 1 Axes>"
      ]
     },
     "metadata": {
      "needs_background": "light"
     },
     "output_type": "display_data"
    }
   ],
   "source": [
    "#prediction = model.predict(X)\n",
    "plt.scatter(X, y, color = 'red')\n",
    "plt.plot(X, model.predict(X), color = 'blue')\n",
    "plt.title('Hispanic Population vs Mexican Restaurants')\n",
    "plt.xlabel('Hispanic Population')\n",
    "plt.ylabel('Mexican Restaurants')\n",
    "plt.show()"
   ]
  },
  {
   "cell_type": "markdown",
   "metadata": {},
   "source": [
    "### Results"
   ]
  },
  {
   "cell_type": "markdown",
   "metadata": {},
   "source": [
    "As the charts above indicate, there is a slight inverse relationship between the Hispanic population and the amount of Mexican restaurants in the Phoenix metropolitan area.  I used a linear regression model to train and test the data.  The results are not strong, but perhaps seperating the larger cities into sections would help demonstrate a stronger correlation.  Perhaps a non-linear or cluter model are possible candidates to find a better correlation."
   ]
  },
  {
   "cell_type": "markdown",
   "metadata": {},
   "source": [
    "### Conclusion"
   ]
  },
  {
   "cell_type": "markdown",
   "metadata": {},
   "source": [
    "The purpose of this project was fulfilled by identifying the relationship between the two independent variables.  This information is useful in determining possible locations for mexican restaurants in the Phoenix area.  The results indicated that there is a relationship between the ethnicity of the population and the types of restaruants.  This data needs to be analyzed and researched futher.  It can also be combined with other metrics to help determine the suitablity for certain types of restaurants for cities in the Phoenix area."
   ]
  },
  {
   "cell_type": "markdown",
   "metadata": {},
   "source": [
    "### Data retrieved from these sites"
   ]
  },
  {
   "cell_type": "markdown",
   "metadata": {},
   "source": [
    "https://population.az.gov/census-data <br>\n",
    "https://wpcarey.asu.edu/sites/default/files/census2010az11-11.pdf <br>\n",
    "https://en.wikipedia.org/wiki/Phoenix_metropolitan_area"
   ]
  }
 ],
 "metadata": {
  "kernelspec": {
   "display_name": "Python 3.6",
   "language": "python",
   "name": "python3"
  },
  "language_info": {
   "codemirror_mode": {
    "name": "ipython",
    "version": 3
   },
   "file_extension": ".py",
   "mimetype": "text/x-python",
   "name": "python",
   "nbconvert_exporter": "python",
   "pygments_lexer": "ipython3",
   "version": "3.6.9"
  }
 },
 "nbformat": 4,
 "nbformat_minor": 1
}
