{
 "cells": [
  {
   "cell_type": "markdown",
   "metadata": {
    "collapsed": true
   },
   "source": [
    "# Predicting the amount of mexican restaurants based on Hispanic population"
   ]
  },
  {
   "cell_type": "markdown",
   "metadata": {},
   "source": [
    "Restaurants have a hard time choosing where to build new locations.  It depends on a plethora of conditions, such as traffic patterns, proximity to other similar restaurants, and distance from neighborhoods.  However, in this project, I look how the amount of Hispanic population in a city affects the diversity of restaurants.  I am specifically researching whether or to what extent the Hispanic ethnicity of the population of a city dictates the amount of ‘mexican’ restaurants.  This data and research would be of great interest to restaurants of any type as a factor in determining new locations.  This project could also be extended to include different ethnicities and more types of restaurants.  "
   ]
  }
 ],
 "metadata": {
  "kernelspec": {
   "display_name": "Python 3.6",
   "language": "python",
   "name": "python3"
  },
  "language_info": {
   "codemirror_mode": {
    "name": "ipython",
    "version": 3
   },
   "file_extension": ".py",
   "mimetype": "text/x-python",
   "name": "python",
   "nbconvert_exporter": "python",
   "pygments_lexer": "ipython3",
   "version": "3.6.9"
  }
 },
 "nbformat": 4,
 "nbformat_minor": 1
}
