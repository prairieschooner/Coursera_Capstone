{
 "cells": [
  {
   "cell_type": "markdown",
   "metadata": {
    "collapsed": true
   },
   "source": [
    "# Predicting the amount of mexican restaurants based on Hispanic population"
   ]
  },
  {
   "cell_type": "markdown",
   "metadata": {},
   "source": [
    "#### Introduction/Business Problem\n",
    "Restaurants have a hard time choosing where to build new locations.  It depends on a plethora of conditions, such as traffic patterns, proximity to other similar restaurants, and distance from neighborhoods.  However, in this project, I look how the amount of Hispanic population in a city affects the diversity of restaurants.  I am specifically researching whether or to what extent the Hispanic ethnicity of the population of a city dictates the amount of ‘mexican’ restaurants.  This data and research would be of great interest to restaurants of any type as a factor in determining new locations.  This project could also be extended to include different ethnicities and more types of restaurants.  "
   ]
  },
  {
   "cell_type": "markdown",
   "metadata": {},
   "source": [
    "#### Data\n",
    "I choose the Phoenix metropolitan area to analyze.  It has a variety of ethnicities among its cities, and therefore is bound to have some variation to be scrutinized.  I use population data and the ratio or percentage of Hispanics for each city in the Phoenix metropolitan area, gathered from the 2010 census.  I am discarding all population in unincorporated areas; only people in the cities of Phoenix are included.  There were several cities (about three to five out of thirty) that I did not have ethnicity data for, so I excluded those cities as well. <br> <br>\n",
    "In my project, I compile the population and demographic data into one dataframe.  Then I add the latitude and longitude for each location in my dataframe.  Next, I query Foursquare to find the amount of Mexican restaurants in each vicinity, both as a number amount and as a percentage of the total number of restaurants in the area.  Lastly, I train and test several models to find the most accurate in predicting the proportion of Mexican restaurants in a given city based on the proportion of Hispanic population.  This gives me the ability to give a decision, with reasonable certainty, as to whether another Mexican restaurant might be successful in a certain area.  Of course, other data would be needed to determine the exact location and whether there are already too many restaurants for the population.  However, this project would be a useful metric in aiding a restaurant chain in deciding on new locations."
   ]
  },
  {
   "cell_type": "markdown",
   "metadata": {},
   "source": [
    "#### Methodology"
   ]
  },
  {
   "cell_type": "markdown",
   "metadata": {},
   "source": [
    "This section represents the main component of the report where you discuss and describe any exploratory data analysis that you did, any inferential statistical testing that you performed, if any, and what machine learnings were used and why."
   ]
  },
  {
   "cell_type": "markdown",
   "metadata": {},
   "source": [
    "#### Result"
   ]
  },
  {
   "cell_type": "markdown",
   "metadata": {},
   "source": [
    "As the charts indicated, there is a slight inverse relationship between the Hispanic population and the amount of Mexican restaurants in the Phoenix metropolitan area.  I used a linear regression model to train and test the data.  The results are not strong, but that can be improved by fine-tuning the modeling and training of the data."
   ]
  },
  {
   "cell_type": "markdown",
   "metadata": {},
   "source": [
    "#### Discussion"
   ]
  },
  {
   "cell_type": "markdown",
   "metadata": {},
   "source": [
    "This section is where you discuss any observations you noted and any recommendations you can make based on the results.\n",
    "The results found in this project could be stronger.  Perhaps seperating the larger cities into sections would help demonstrate a stronger correlation.  A non-linear or cluter model are possible candidates for finding a better correlation.  Overall, this data needs to be analyzed and researched futher, and maybe combined with other metrics to help determine the suitablity for certain types of restaurants for cities in the Phoenix area."
   ]
  },
  {
   "cell_type": "markdown",
   "metadata": {},
   "source": [
    "#### Conclusion"
   ]
  },
  {
   "cell_type": "markdown",
   "metadata": {},
   "source": [
    "The purpose of this project was fulfilled by identifying the relationship between the two independent variables.  This information is useful in determining possible locations for mexican restaurants in the Phoenix area.  The results indicated that there is a relationship between the ethnicity of the population and the types of restaruants.  "
   ]
  }
 ],
 "metadata": {
  "kernelspec": {
   "display_name": "Python 3.6",
   "language": "python",
   "name": "python3"
  },
  "language_info": {
   "codemirror_mode": {
    "name": "ipython",
    "version": 3
   },
   "file_extension": ".py",
   "mimetype": "text/x-python",
   "name": "python",
   "nbconvert_exporter": "python",
   "pygments_lexer": "ipython3",
   "version": "3.6.9"
  }
 },
 "nbformat": 4,
 "nbformat_minor": 1
}
