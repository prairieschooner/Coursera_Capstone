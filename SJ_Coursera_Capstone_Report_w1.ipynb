{
 "cells": [
  {
   "cell_type": "markdown",
   "metadata": {
    "collapsed": true
   },
   "source": [
    "# Predicting the amount of mexican restaurants based on Hispanic population"
   ]
  },
  {
   "cell_type": "markdown",
   "metadata": {},
   "source": [
    "#### Introduction/Business Problem\n",
    "Restaurants have a hard time choosing where to build new locations.  It depends on a plethora of conditions, such as traffic patterns, proximity to other similar restaurants, and distance from neighborhoods.  However, in this project, I look how the amount of Hispanic population in a city affects the diversity of restaurants.  I am specifically researching whether or to what extent the Hispanic ethnicity of the population of a city dictates the amount of ‘mexican’ restaurants.  This data and research would be of great interest to restaurants of any type as a factor in determining new locations.  This project could also be extended to include different ethnicities and more types of restaurants.  "
   ]
  },
  {
   "cell_type": "markdown",
   "metadata": {},
   "source": [
    "#### Data\n",
    "I choose the Phoenix metropolitan area to analyze.  It has a variety of ethnicities among its cities, and therefore is bound to have some variation to be scrutinized.  I use population data and the ratio or percentage of Hispanics for each city in the Phoenix metropolitan area, gathered from the 2010 census.  I am discarding all population in unincorporated areas; only people in the cities of Phoenix are included.  There were several cities (about three to five out of thirty) that I did not have ethnicity data for, so I excluded those cities as well. <br> <br>\n",
    "In my project, I compile the population and demographic data into one dataframe.  Then I add the latitude and longitude for each location in my dataframe.  Next, I query Foursquare to find the amount of Mexican restaurants in each vicinity, both as a number amount and as a percentage of the total number of restaurants in the area.  Lastly, I train and test several models to find the most accurate in predicting the proportion of Mexican restaurants in a given city based on the proportion of Hispanic population.  This gives me the ability to give a decision, with reasonable certainty, as to whether another Mexican restaurant might be successful in a certain area.  Of course, other data would be needed to determine the exact location and whether there are already too many restaurants for the population.  However, this project would be a useful metric in aiding a restaurant chain in deciding on new locations."
   ]
  },
  {
   "cell_type": "code",
   "execution_count": null,
   "metadata": {},
   "outputs": [],
   "source": []
  }
 ],
 "metadata": {
  "kernelspec": {
   "display_name": "Python 3.6",
   "language": "python",
   "name": "python3"
  },
  "language_info": {
   "codemirror_mode": {
    "name": "ipython",
    "version": 3
   },
   "file_extension": ".py",
   "mimetype": "text/x-python",
   "name": "python",
   "nbconvert_exporter": "python",
   "pygments_lexer": "ipython3",
   "version": "3.6.9"
  }
 },
 "nbformat": 4,
 "nbformat_minor": 1
}
